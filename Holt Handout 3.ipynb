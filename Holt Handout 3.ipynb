{
 "cells": [
  {
   "cell_type": "markdown",
   "metadata": {},
   "source": [
    "# Handout 3: Sam Holt\n",
    "\n",
    "## Task 1\n",
    "\n",
    "### (i) and (ii) - How is the code structured? What are the main loops?\n",
    "\n",
    "1. Import libraries\n",
    "2. Initialise parameters: number of students, fraction initially immune, chance of recovering per day, number of infected per day, number of days, number of repetitions and initialise arrays for infected, susceptible and removed.\n",
    "3. Begin repetition loop.\n",
    "4. Initial loops: create array P for all students, then assign 0's to amount that need to be initially immune, then randomly assign a Patient Zero.\n",
    "5. Loop over days\n",
    "6. Loop over students\n",
    "7. Spread infection (dependent on how many are infected and chance of recovery)\n"
   ]
  }
 ],
 "metadata": {
  "kernelspec": {
   "display_name": "Python 3",
   "language": "python",
   "name": "python3"
  },
  "language_info": {
   "codemirror_mode": {
    "name": "ipython",
    "version": 3
   },
   "file_extension": ".py",
   "mimetype": "text/x-python",
   "name": "python",
   "nbconvert_exporter": "python",
   "pygments_lexer": "ipython3",
   "version": "3.7.3"
  }
 },
 "nbformat": 4,
 "nbformat_minor": 2
}
